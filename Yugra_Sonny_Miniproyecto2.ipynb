{
  "nbformat": 4,
  "nbformat_minor": 0,
  "metadata": {
    "colab": {
      "name": "Yugra_Sonny.ipynb",
      "provenance": []
    },
    "kernelspec": {
      "name": "python3",
      "display_name": "Python 3"
    }
  },
  "cells": [
    {
      "cell_type": "markdown",
      "metadata": {
        "id": "btXN8PSquQxR"
      },
      "source": [
        "#Respuesta 1"
      ]
    },
    {
      "cell_type": "code",
      "metadata": {
        "id": "vJg3GLyEVWH9",
        "outputId": "a3acce0a-1d66-45bc-ef70-1c55cc09a6a3",
        "colab": {
          "resources": {
            "http://localhost:8080/nbextensions/google.colab/files.js": {
              "data": "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",
              "ok": true,
              "headers": [
                [
                  "content-type",
                  "application/javascript"
                ]
              ],
              "status": 200,
              "status_text": ""
            }
          },
          "base_uri": "https://localhost:8080/",
          "height": 90
        }
      },
      "source": [
        "from google.colab import files\n",
        "\n",
        "uploaded = files.upload()\n",
        "\n",
        "for fn in uploaded.keys():\n",
        "  print('User uploaded file \"{name}\" with length {length} bytes'.format(\n",
        "      name=fn, length=len(uploaded[fn])))"
      ],
      "execution_count": null,
      "outputs": [
        {
          "output_type": "display_data",
          "data": {
            "text/html": [
              "\n",
              "     <input type=\"file\" id=\"files-a32ff58e-cd84-40f1-bb90-ecbeac9084f5\" name=\"files[]\" multiple disabled\n",
              "        style=\"border:none\" />\n",
              "     <output id=\"result-a32ff58e-cd84-40f1-bb90-ecbeac9084f5\">\n",
              "      Upload widget is only available when the cell has been executed in the\n",
              "      current browser session. Please rerun this cell to enable.\n",
              "      </output>\n",
              "      <script src=\"/nbextensions/google.colab/files.js\"></script> "
            ],
            "text/plain": [
              "<IPython.core.display.HTML object>"
            ]
          },
          "metadata": {
            "tags": []
          }
        },
        {
          "output_type": "stream",
          "text": [
            "Saving spark_colab_installer.py to spark_colab_installer.py\n",
            "User uploaded file \"spark_colab_installer.py\" with length 4307 bytes\n"
          ],
          "name": "stdout"
        }
      ]
    },
    {
      "cell_type": "code",
      "metadata": {
        "id": "9459BiZtuPVS",
        "outputId": "9d224ecf-7ba2-4d37-b9bc-d03d67a79268",
        "colab": {
          "base_uri": "https://localhost:8080/",
          "height": 168
        }
      },
      "source": [
        "exec(open('spark_colab_installer.py').read())"
      ],
      "execution_count": null,
      "outputs": [
        {
          "output_type": "stream",
          "text": [
            "Active services:\n",
            "1011 ResourceManager\n",
            "1380 DataNode\n",
            "1673 Jps\n",
            "1100 NameNode\n",
            "1500 NodeManager\n",
            "1564 JobHistoryServer\n",
            "\n",
            "Apache Spark installed\n"
          ],
          "name": "stdout"
        }
      ]
    },
    {
      "cell_type": "markdown",
      "metadata": {
        "id": "GlDDVytFuhfI"
      },
      "source": [
        "#Respuesta 2"
      ]
    },
    {
      "cell_type": "code",
      "metadata": {
        "id": "mGBpIfMaV2as",
        "outputId": "bc1e167f-0081-4350-e7cc-1a60f61428a7",
        "colab": {
          "resources": {
            "http://localhost:8080/nbextensions/google.colab/files.js": {
              "data": "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",
              "ok": true,
              "headers": [
                [
                  "content-type",
                  "application/javascript"
                ]
              ],
              "status": 200,
              "status_text": ""
            }
          },
          "base_uri": "https://localhost:8080/",
          "height": 90
        }
      },
      "source": [
        "from google.colab import files\n",
        "\n",
        "uploaded = files.upload()\n",
        "\n",
        "for fn in uploaded.keys():\n",
        "  print('User uploaded file \"{name}\" with length {length} bytes'.format(\n",
        "      name=fn, length=len(uploaded[fn])))"
      ],
      "execution_count": null,
      "outputs": [
        {
          "output_type": "display_data",
          "data": {
            "text/html": [
              "\n",
              "     <input type=\"file\" id=\"files-3994f205-7e75-4b2c-acf3-6c5b6e01564f\" name=\"files[]\" multiple disabled\n",
              "        style=\"border:none\" />\n",
              "     <output id=\"result-3994f205-7e75-4b2c-acf3-6c5b6e01564f\">\n",
              "      Upload widget is only available when the cell has been executed in the\n",
              "      current browser session. Please rerun this cell to enable.\n",
              "      </output>\n",
              "      <script src=\"/nbextensions/google.colab/files.js\"></script> "
            ],
            "text/plain": [
              "<IPython.core.display.HTML object>"
            ]
          },
          "metadata": {
            "tags": []
          }
        },
        {
          "output_type": "stream",
          "text": [
            "Saving bank-additional-full.csv to bank-additional-full.csv\n",
            "User uploaded file \"bank-additional-full.csv\" with length 5834924 bytes\n"
          ],
          "name": "stdout"
        }
      ]
    },
    {
      "cell_type": "markdown",
      "metadata": {
        "id": "xeSLuo8SvF5u"
      },
      "source": [
        "#Respuesta 3"
      ]
    },
    {
      "cell_type": "code",
      "metadata": {
        "id": "2K23QyA2ZDuv",
        "outputId": "8dc8eefb-d7b0-4eb5-9a50-2d6e54c78e48",
        "colab": {
          "base_uri": "https://localhost:8080/",
          "height": 238
        }
      },
      "source": [
        "import findspark\n",
        "findspark.init()\n",
        "\n",
        "import os\n",
        "import matplotlib.pyplot as plt\n",
        "from pyspark.sql.functions import count, col\n",
        "\n",
        "from pyspark.sql import SparkSession\n",
        "spark = SparkSession.builder.appName(\"miniproyecto2\").getOrCreate()\n",
        "\n",
        "text = open(\"bank-additional-full.csv\", \"r\")\n",
        "text = ''.join([i for i in text]) \\\n",
        "    .replace(\";\", \",\") \\\n",
        "    .replace('\"','')\n",
        "x = open(\"bank-additional-full.csv\",\"w\")\n",
        "x.writelines(text)\n",
        "x.close()\n",
        "\n",
        "bank = spark.read.options(header=True).csv('file:///content/bank-additional-full.csv')\n",
        "\n",
        "bank.show(5)\n",
        "print(bank.count())"
      ],
      "execution_count": null,
      "outputs": [
        {
          "output_type": "stream",
          "text": [
            "+---+---------+-------+-----------+-------+-------+----+---------+-----+-----------+--------+--------+-----+--------+-----------+------------+--------------+-------------+---------+-----------+---+\n",
            "|age|      job|marital|  education|default|housing|loan|  contact|month|day_of_week|duration|campaign|pdays|previous|   poutcome|emp.var.rate|cons.price.idx|cons.conf.idx|euribor3m|nr.employed|  y|\n",
            "+---+---------+-------+-----------+-------+-------+----+---------+-----+-----------+--------+--------+-----+--------+-----------+------------+--------------+-------------+---------+-----------+---+\n",
            "| 56|housemaid|married|   basic.4y|     no|     no|  no|telephone|  may|        mon|     261|       1|  999|       0|nonexistent|         1.1|        93.994|        -36.4|    4.857|       5191| no|\n",
            "| 57| services|married|high.school|unknown|     no|  no|telephone|  may|        mon|     149|       1|  999|       0|nonexistent|         1.1|        93.994|        -36.4|    4.857|       5191| no|\n",
            "| 37| services|married|high.school|     no|    yes|  no|telephone|  may|        mon|     226|       1|  999|       0|nonexistent|         1.1|        93.994|        -36.4|    4.857|       5191| no|\n",
            "| 40|   admin.|married|   basic.6y|     no|     no|  no|telephone|  may|        mon|     151|       1|  999|       0|nonexistent|         1.1|        93.994|        -36.4|    4.857|       5191| no|\n",
            "| 56| services|married|high.school|     no|     no| yes|telephone|  may|        mon|     307|       1|  999|       0|nonexistent|         1.1|        93.994|        -36.4|    4.857|       5191| no|\n",
            "+---+---------+-------+-----------+-------+-------+----+---------+-----+-----------+--------+--------+-----+--------+-----------+------------+--------------+-------------+---------+-----------+---+\n",
            "only showing top 5 rows\n",
            "\n",
            "41188\n"
          ],
          "name": "stdout"
        }
      ]
    },
    {
      "cell_type": "markdown",
      "metadata": {
        "id": "TM-pUzEMvOdO"
      },
      "source": [
        "#Respuesta 4"
      ]
    },
    {
      "cell_type": "code",
      "metadata": {
        "id": "3_yg8kxAsCfg",
        "outputId": "2bb92ae5-d7d1-4f52-a452-6e559a2c5cfe",
        "colab": {
          "base_uri": "https://localhost:8080/",
          "height": 554
        }
      },
      "source": [
        "simpleDF_yes = bank.select([\"age\",\"job\",\"education\",\"housing\"]).where(col(\"y\").like(\"yes\"))\n",
        "simpleDF_no = bank.select([\"age\",\"job\",\"education\",\"housing\"]).where(col(\"y\").like(\"no\"))\n",
        "\n",
        "simpleDF_yes.show(10)\n",
        "simpleDF_no.show(10)\n"
      ],
      "execution_count": null,
      "outputs": [
        {
          "output_type": "stream",
          "text": [
            "+---+------------+-------------------+-------+\n",
            "|age|         job|          education|housing|\n",
            "+---+------------+-------------------+-------+\n",
            "| 41| blue-collar|           basic.4y|    yes|\n",
            "| 49|entrepreneur|  university.degree|    yes|\n",
            "| 49|  technician|           basic.9y|     no|\n",
            "| 41|  technician|professional.course|    yes|\n",
            "| 45| blue-collar|           basic.9y|    yes|\n",
            "| 42| blue-collar|           basic.9y|    yes|\n",
            "| 39|   housemaid|           basic.9y|    yes|\n",
            "| 28|     unknown|            unknown|    yes|\n",
            "| 44|    services|        high.school|    yes|\n",
            "| 42|  technician|professional.course|     no|\n",
            "+---+------------+-------------------+-------+\n",
            "only showing top 10 rows\n",
            "\n",
            "+---+-----------+-------------------+-------+\n",
            "|age|        job|          education|housing|\n",
            "+---+-----------+-------------------+-------+\n",
            "| 56|  housemaid|           basic.4y|     no|\n",
            "| 57|   services|        high.school|     no|\n",
            "| 37|   services|        high.school|    yes|\n",
            "| 40|     admin.|           basic.6y|     no|\n",
            "| 56|   services|        high.school|     no|\n",
            "| 45|   services|           basic.9y|     no|\n",
            "| 59|     admin.|professional.course|     no|\n",
            "| 41|blue-collar|            unknown|     no|\n",
            "| 24| technician|professional.course|    yes|\n",
            "| 25|   services|        high.school|    yes|\n",
            "+---+-----------+-------------------+-------+\n",
            "only showing top 10 rows\n",
            "\n"
          ],
          "name": "stdout"
        }
      ]
    },
    {
      "cell_type": "markdown",
      "metadata": {
        "id": "3p53DWdCvboY"
      },
      "source": [
        "#Respuesta 5"
      ]
    },
    {
      "cell_type": "markdown",
      "metadata": {
        "id": "WVvAXxlJEJSN"
      },
      "source": [
        "##Histograma por \"age\" para el dataframe \"simpleDF_yes\" "
      ]
    },
    {
      "cell_type": "code",
      "metadata": {
        "id": "_ws4CkTbvT3t",
        "outputId": "ab7c2caa-701e-4204-81a3-6831d4748764",
        "colab": {
          "base_uri": "https://localhost:8080/",
          "height": 637
        }
      },
      "source": [
        "print(simpleDF_yes.count())\n",
        "ages_count = simpleDF_yes.groupBy('age').agg(count('age').alias('count'))\n",
        "ages_count.show(10)\n",
        "\n",
        "data = ages_count.collect()\n",
        "counts = [0, 0, 0, 0, 0, 0, 0, 0, 0, 0]\n",
        "\n",
        "for age in data:\n",
        "    if int(age[0]) < 10:\n",
        "        counts[0] += age[1]\n",
        "    elif int(age[0]) < 20:\n",
        "        counts[1] += age[1]\n",
        "    elif int(age[0]) < 30:\n",
        "        counts[2] += age[1]\n",
        "    elif int(age[0]) < 40:\n",
        "        counts[3] += age[1]\n",
        "    elif int(age[0]) < 50:\n",
        "        counts[4] += age[1]\n",
        "    elif int(age[0]) < 60:\n",
        "        counts[5] += age[1]\n",
        "    elif int(age[0]) < 70:\n",
        "        counts[6] += age[1]\n",
        "    elif int(age[0]) < 80:\n",
        "        counts[7] += age[1]\n",
        "    elif int(age[0]) < 90:\n",
        "        counts[8] += age[1]\n",
        "    else:\n",
        "        counts[9] += age[1]\n",
        "\n",
        "print(counts)\n",
        "plt.bar(range(len(counts)), counts, tick_label=['< 10', '10 < edad < 20', '20 < edad < 30', '30 < edad < 40', '40 < edad < 50', '50 < edad < 60', '60 < edad < 70', '70 < edad < 80', '80 < edad < 90','edad >= 90'])\n",
        "plt.title('Cantidad de personas por rango de edad')\n",
        "plt.xticks(rotation=45, ha='right')\n",
        "plt.show()\n",
        "\n",
        "\n",
        "\n"
      ],
      "execution_count": null,
      "outputs": [
        {
          "output_type": "stream",
          "text": [
            "4640\n",
            "+---+-----+\n",
            "|age|count|\n",
            "+---+-----+\n",
            "| 51|   72|\n",
            "| 54|   64|\n",
            "| 29|  186|\n",
            "| 69|   14|\n",
            "| 42|   91|\n",
            "| 73|   13|\n",
            "| 87|    1|\n",
            "| 64|   27|\n",
            "| 30|  202|\n",
            "| 34|  184|\n",
            "+---+-----+\n",
            "only showing top 10 rows\n",
            "\n",
            "[0, 34, 888, 1715, 834, 697, 251, 144, 72, 5]\n"
          ],
          "name": "stdout"
        },
        {
          "output_type": "display_data",
          "data": {
            "image/png": "[encoded data removed]",
            "text/plain": [
              "<Figure size 432x288 with 1 Axes>"
            ]
          },
          "metadata": {
            "tags": [],
            "needs_background": "light"
          }
        }
      ]
    },
    {
      "cell_type": "markdown",
      "metadata": {
        "id": "c_vDVeK8E3XL"
      },
      "source": [
        "##Histograma por \"age\" para el dataframe \"simpleDF_no\" "
      ]
    },
    {
      "cell_type": "code",
      "metadata": {
        "id": "SE9cZaiuE8kX",
        "outputId": "b9789b2d-d458-4b59-b22e-c860cb1c4cc4",
        "colab": {
          "base_uri": "https://localhost:8080/",
          "height": 620
        }
      },
      "source": [
        "ages_count = simpleDF_no.groupBy('age').agg(count('age').alias('count'))\n",
        "ages_count.show(10)\n",
        "\n",
        "data = ages_count.collect()\n",
        "counts = [0, 0, 0, 0, 0, 0, 0, 0, 0, 0]\n",
        "\n",
        "for age in data:\n",
        "    if int(age[0]) < 10:\n",
        "        counts[0] += age[1]\n",
        "    elif int(age[0]) < 20:\n",
        "        counts[1] += age[1]\n",
        "    elif int(age[0]) < 30:\n",
        "        counts[2] += age[1]\n",
        "    elif int(age[0]) < 40:\n",
        "        counts[3] += age[1]\n",
        "    elif int(age[0]) < 50:\n",
        "        counts[4] += age[1]\n",
        "    elif int(age[0]) < 60:\n",
        "        counts[5] += age[1]\n",
        "    elif int(age[0]) < 70:\n",
        "        counts[6] += age[1]\n",
        "    elif int(age[0]) < 80:\n",
        "        counts[7] += age[1]\n",
        "    elif int(age[0]) < 90:\n",
        "        counts[8] += age[1]\n",
        "    else:\n",
        "        counts[9] += age[1]\n",
        "\n",
        "print(counts)\n",
        "plt.bar(range(len(counts)), counts, tick_label=['< 10', '10 < edad < 20', '20 < edad < 30', '30 < edad < 40', '40 < edad < 50', '50 < edad < 60', '60 < edad < 70', '70 < edad < 80', '80 < edad < 90','edad >= 90'])\n",
        "plt.title('Cantidad de personas por rango de edad')\n",
        "plt.xticks(rotation=45, ha='right')\n",
        "plt.show()"
      ],
      "execution_count": null,
      "outputs": [
        {
          "output_type": "stream",
          "text": [
            "+---+-----+\n",
            "|age|count|\n",
            "+---+-----+\n",
            "| 51|  682|\n",
            "| 54|  620|\n",
            "| 29| 1267|\n",
            "| 69|   20|\n",
            "| 42| 1051|\n",
            "| 73|   21|\n",
            "| 64|   30|\n",
            "| 30| 1512|\n",
            "| 34| 1561|\n",
            "| 59|  394|\n",
            "+---+-----+\n",
            "only showing top 10 rows\n",
            "\n",
            "[0, 41, 4706, 15223, 9692, 6165, 473, 175, 68, 5]\n"
          ],
          "name": "stdout"
        },
        {
          "output_type": "display_data",
          "data": {
            "image/png": "[encoded data removed]",
            "text/plain": [
              "<Figure size 432x288 with 1 Axes>"
            ]
          },
          "metadata": {
            "tags": [],
            "needs_background": "light"
          }
        }
      ]
    },
    {
      "cell_type": "markdown",
      "metadata": {
        "id": "a8WGLKs8Uxrz"
      },
      "source": [
        "##Histograma por \"job\" para el dataframe \"simpleDF_yes\" "
      ]
    },
    {
      "cell_type": "code",
      "metadata": {
        "id": "Wf2i8dzRU4Mn",
        "outputId": "48f569d7-beb5-42a5-a11f-06dc64603d0d",
        "colab": {
          "base_uri": "https://localhost:8080/",
          "height": 647
        }
      },
      "source": [
        "print(simpleDF_yes.count())\n",
        "jobs_count = simpleDF_yes.groupBy('job').agg(count('job').alias('count'))\n",
        "print(jobs_count.count())\n",
        "jobs_count.show()\n",
        "\n",
        "data = jobs_count.collect()\n",
        "labels = [d[0] for d in data]\n",
        "values = [d[1] for d in data]\n",
        "\n",
        "plt.title('Cantidad de personas por job')\n",
        "plt.xticks(rotation=45, ha='right')\n",
        "plt.bar(range(len(data)), values, tick_label=labels)\n",
        "plt.show()"
      ],
      "execution_count": null,
      "outputs": [
        {
          "output_type": "stream",
          "text": [
            "4640\n",
            "12\n",
            "+-------------+-----+\n",
            "|          job|count|\n",
            "+-------------+-----+\n",
            "|   management|  328|\n",
            "|      retired|  434|\n",
            "|      unknown|   37|\n",
            "|self-employed|  149|\n",
            "|      student|  275|\n",
            "|  blue-collar|  638|\n",
            "| entrepreneur|  124|\n",
            "|       admin.| 1352|\n",
            "|   technician|  730|\n",
            "|     services|  323|\n",
            "|    housemaid|  106|\n",
            "|   unemployed|  144|\n",
            "+-------------+-----+\n",
            "\n"
          ],
          "name": "stdout"
        },
        {
          "output_type": "display_data",
          "data": {
            "image/png": "[encoded data removed]",
            "text/plain": [
              "<Figure size 432x288 with 1 Axes>"
            ]
          },
          "metadata": {
            "tags": [],
            "needs_background": "light"
          }
        }
      ]
    },
    {
      "cell_type": "markdown",
      "metadata": {
        "id": "5Lnq_m8Tb5RE"
      },
      "source": [
        "##Histograma por \"job\" para el dataframe \"simpleDF_no\" "
      ]
    },
    {
      "cell_type": "code",
      "metadata": {
        "id": "aWLzS9HecCGY",
        "outputId": "eca7d815-df22-40a5-9305-163a0d2596f6",
        "colab": {
          "base_uri": "https://localhost:8080/",
          "height": 647
        }
      },
      "source": [
        "print(simpleDF_no.count())\n",
        "jobs_count = simpleDF_no.groupBy('job').agg(count('job').alias('count'))\n",
        "print(jobs_count.count())\n",
        "jobs_count.show()\n",
        "\n",
        "data = jobs_count.collect()\n",
        "labels = [d[0] for d in data]\n",
        "values = [d[1] for d in data]\n",
        "\n",
        "plt.title('Cantidad de personas por job')\n",
        "plt.xticks(rotation=45, ha='right')\n",
        "plt.bar(range(len(data)), values, tick_label=labels)\n",
        "plt.show()"
      ],
      "execution_count": null,
      "outputs": [
        {
          "output_type": "stream",
          "text": [
            "36548\n",
            "12\n",
            "+-------------+-----+\n",
            "|          job|count|\n",
            "+-------------+-----+\n",
            "|   management| 2596|\n",
            "|      retired| 1286|\n",
            "|      unknown|  293|\n",
            "|self-employed| 1272|\n",
            "|      student|  600|\n",
            "|  blue-collar| 8616|\n",
            "| entrepreneur| 1332|\n",
            "|       admin.| 9070|\n",
            "|   technician| 6013|\n",
            "|     services| 3646|\n",
            "|    housemaid|  954|\n",
            "|   unemployed|  870|\n",
            "+-------------+-----+\n",
            "\n"
          ],
          "name": "stdout"
        },
        {
          "output_type": "display_data",
          "data": {
            "image/png": "[encoded data removed]",
            "text/plain": [
              "<Figure size 432x288 with 1 Axes>"
            ]
          },
          "metadata": {
            "tags": [],
            "needs_background": "light"
          }
        }
      ]
    },
    {
      "cell_type": "markdown",
      "metadata": {
        "id": "CsKzqLB4onUJ"
      },
      "source": [
        "##Histograma por \"education\" para el dataframe \"simpleDF_yes\" "
      ]
    },
    {
      "cell_type": "code",
      "metadata": {
        "id": "Y0Rlo3geot9w",
        "outputId": "10dd9968-3d65-44a4-d496-ff2c42c70021",
        "colab": {
          "base_uri": "https://localhost:8080/",
          "height": 599
        }
      },
      "source": [
        "print(simpleDF_yes.count())\n",
        "educations_count = simpleDF_yes.groupBy('education').agg(count('education').alias('count'))\n",
        "print(educations_count.count())\n",
        "educations_count.show()\n",
        "\n",
        "data = educations_count.collect()\n",
        "labels = [d[0] for d in data]\n",
        "values = [d[1] for d in data]\n",
        "\n",
        "plt.title('Cantidad de personas por education')\n",
        "plt.xticks(rotation=45, ha='right')\n",
        "plt.bar(range(len(data)), values, tick_label=labels)\n",
        "plt.show()"
      ],
      "execution_count": null,
      "outputs": [
        {
          "output_type": "stream",
          "text": [
            "4640\n",
            "8\n",
            "+-------------------+-----+\n",
            "|          education|count|\n",
            "+-------------------+-----+\n",
            "|        high.school| 1031|\n",
            "|            unknown|  251|\n",
            "|           basic.6y|  188|\n",
            "|professional.course|  595|\n",
            "|  university.degree| 1670|\n",
            "|         illiterate|    4|\n",
            "|           basic.4y|  428|\n",
            "|           basic.9y|  473|\n",
            "+-------------------+-----+\n",
            "\n"
          ],
          "name": "stdout"
        },
        {
          "output_type": "display_data",
          "data": {
            "image/png": "[encoded data removed]",
            "text/plain": [
              "<Figure size 432x288 with 1 Axes>"
            ]
          },
          "metadata": {
            "tags": [],
            "needs_background": "light"
          }
        }
      ]
    },
    {
      "cell_type": "markdown",
      "metadata": {
        "id": "ZmEvdLTlpYnW"
      },
      "source": [
        "##Histograma por \"education\" para el dataframe \"simpleDF_no\""
      ]
    },
    {
      "cell_type": "code",
      "metadata": {
        "id": "9tkiBHQmpNzC",
        "outputId": "d7748fee-c0c3-4ff1-a6f3-edad7852b1fc",
        "colab": {
          "base_uri": "https://localhost:8080/",
          "height": 599
        }
      },
      "source": [
        "print(simpleDF_no.count())\n",
        "educations_count = simpleDF_no.groupBy('education').agg(count('education').alias('count'))\n",
        "print(educations_count.count())\n",
        "educations_count.show()\n",
        "\n",
        "data = educations_count.collect()\n",
        "labels = [d[0] for d in data]\n",
        "values = [d[1] for d in data]\n",
        "\n",
        "plt.title('Cantidad de personas por education')\n",
        "plt.xticks(rotation=45, ha='right')\n",
        "plt.bar(range(len(data)), values, tick_label=labels)\n",
        "plt.show()"
      ],
      "execution_count": null,
      "outputs": [
        {
          "output_type": "stream",
          "text": [
            "36548\n",
            "8\n",
            "+-------------------+-----+\n",
            "|          education|count|\n",
            "+-------------------+-----+\n",
            "|        high.school| 8484|\n",
            "|            unknown| 1480|\n",
            "|           basic.6y| 2104|\n",
            "|professional.course| 4648|\n",
            "|  university.degree|10498|\n",
            "|         illiterate|   14|\n",
            "|           basic.4y| 3748|\n",
            "|           basic.9y| 5572|\n",
            "+-------------------+-----+\n",
            "\n"
          ],
          "name": "stdout"
        },
        {
          "output_type": "display_data",
          "data": {
            "image/png": "[encoded data removed]",
            "text/plain": [
              "<Figure size 432x288 with 1 Axes>"
            ]
          },
          "metadata": {
            "tags": [],
            "needs_background": "light"
          }
        }
      ]
    },
    {
      "cell_type": "markdown",
      "metadata": {
        "id": "h-lhVW5-pnmd"
      },
      "source": [
        "##Histograma por \"housing\" para el dataframe \"simpleDF_yes\""
      ]
    },
    {
      "cell_type": "code",
      "metadata": {
        "id": "h7TLIeVmpxc7",
        "outputId": "c769e234-7534-4d7b-80bc-140cf60aa9f7",
        "colab": {
          "base_uri": "https://localhost:8080/",
          "height": 478
        }
      },
      "source": [
        "print(simpleDF_yes.count())\n",
        "housings_count = simpleDF_yes.groupBy('housing').agg(count('housing').alias('count'))\n",
        "print(housings_count.count())\n",
        "housings_count.show()\n",
        "\n",
        "data = housings_count.collect()\n",
        "labels = [d[0] for d in data]\n",
        "values = [d[1] for d in data]\n",
        "\n",
        "plt.title('Cantidad de personas por housing')\n",
        "plt.xticks(rotation=45, ha='right')\n",
        "plt.bar(range(len(data)), values, tick_label=labels)\n",
        "plt.show()"
      ],
      "execution_count": null,
      "outputs": [
        {
          "output_type": "stream",
          "text": [
            "4640\n",
            "3\n",
            "+-------+-----+\n",
            "|housing|count|\n",
            "+-------+-----+\n",
            "|unknown|  107|\n",
            "|     no| 2026|\n",
            "|    yes| 2507|\n",
            "+-------+-----+\n",
            "\n"
          ],
          "name": "stdout"
        },
        {
          "output_type": "display_data",
          "data": {
            "image/png": "[encoded data removed]",
            "text/plain": [
              "<Figure size 432x288 with 1 Axes>"
            ]
          },
          "metadata": {
            "tags": [],
            "needs_background": "light"
          }
        }
      ]
    },
    {
      "cell_type": "markdown",
      "metadata": {
        "id": "h_-6fOlopsH9"
      },
      "source": [
        "##Histograma por \"housing\" para el dataframe \"simpleDF_no\""
      ]
    },
    {
      "cell_type": "code",
      "metadata": {
        "id": "Np2EkxHRqZ8M",
        "outputId": "e7b1f3a2-b458-4444-8ac4-295af502c2be",
        "colab": {
          "base_uri": "https://localhost:8080/",
          "height": 478
        }
      },
      "source": [
        "print(simpleDF_no.count())\n",
        "housings_count = simpleDF_no.groupBy('housing').agg(count('housing').alias('count'))\n",
        "print(housings_count.count())\n",
        "housings_count.show()\n",
        "\n",
        "data = housings_count.collect()\n",
        "labels = [d[0] for d in data]\n",
        "values = [d[1] for d in data]\n",
        "\n",
        "plt.title('Cantidad de personas por housing')\n",
        "plt.xticks(rotation=45, ha='right')\n",
        "plt.bar(range(len(data)), values, tick_label=labels)\n",
        "plt.show()"
      ],
      "execution_count": null,
      "outputs": [
        {
          "output_type": "stream",
          "text": [
            "36548\n",
            "3\n",
            "+-------+-----+\n",
            "|housing|count|\n",
            "+-------+-----+\n",
            "|unknown|  883|\n",
            "|     no|16596|\n",
            "|    yes|19069|\n",
            "+-------+-----+\n",
            "\n"
          ],
          "name": "stdout"
        },
        {
          "output_type": "display_data",
          "data": {
            "image/png": "[encoded data removed]",
            "text/plain": [
              "<Figure size 432x288 with 1 Axes>"
            ]
          },
          "metadata": {
            "tags": [],
            "needs_background": "light"
          }
        }
      ]
    },
    {
      "cell_type": "markdown",
      "metadata": {
        "id": "ukOP_HIhqi1b"
      },
      "source": [
        "#Respuesta 6"
      ]
    },
    {
      "cell_type": "code",
      "metadata": {
        "id": "x-KvmF5hrkC0",
        "outputId": "675bcd98-29b2-4337-a4ad-8e9a2eaa2b7a",
        "colab": {
          "base_uri": "https://localhost:8080/",
          "height": 454
        }
      },
      "source": [
        "simpleDF_yes.createOrReplaceTempView('countsDF')\n",
        "countsDF = spark.sql(\"select job, education, count(*) as count from countsDF group by job, education order by count DESC\")\n",
        "countsDF.show(20)"
      ],
      "execution_count": null,
      "outputs": [
        {
          "output_type": "stream",
          "text": [
            "+-------------+-------------------+-----+\n",
            "|          job|          education|count|\n",
            "+-------------+-------------------+-----+\n",
            "|       admin.|  university.degree|  823|\n",
            "|       admin.|        high.school|  382|\n",
            "|   technician|professional.course|  343|\n",
            "|   management|  university.degree|  257|\n",
            "|  blue-collar|           basic.9y|  240|\n",
            "|   technician|  university.degree|  225|\n",
            "|     services|        high.school|  203|\n",
            "|      retired|           basic.4y|  185|\n",
            "|  blue-collar|           basic.4y|  123|\n",
            "|      student|        high.school|  114|\n",
            "|  blue-collar|           basic.6y|  107|\n",
            "|self-employed|  university.degree|   96|\n",
            "|  blue-collar|        high.school|   94|\n",
            "|   technician|        high.school|   85|\n",
            "| entrepreneur|  university.degree|   66|\n",
            "|      retired|  university.degree|   66|\n",
            "|      retired|        high.school|   62|\n",
            "|      student|            unknown|   59|\n",
            "|      retired|professional.course|   57|\n",
            "|    housemaid|           basic.4y|   51|\n",
            "+-------------+-------------------+-----+\n",
            "only showing top 20 rows\n",
            "\n"
          ],
          "name": "stdout"
        }
      ]
    },
    {
      "cell_type": "markdown",
      "metadata": {
        "id": "unw4YeVt2GF_"
      },
      "source": [
        "#Respuesta 7"
      ]
    },
    {
      "cell_type": "code",
      "metadata": {
        "id": "3BroQ29Z2M-k"
      },
      "source": [
        "countsDF.write.json('countsDF.json')\n",
        "countsDF.write.saveAsTable('countsDF')"
      ],
      "execution_count": null,
      "outputs": []
    },
    {
      "cell_type": "code",
      "metadata": {
        "id": "vxOwhZpz7HZb"
      },
      "source": [
        "simpleDF_yes.write.json('simpleDF_yes.json')\n",
        "simpleDF_yes.write.saveAsTable('simpleDF_yes')"
      ],
      "execution_count": null,
      "outputs": []
    },
    {
      "cell_type": "code",
      "metadata": {
        "id": "j9XPYs3X7IfK"
      },
      "source": [
        "simpleDF_no.write.json('simpleDF_no.json')\n",
        "simpleDF_no.write.saveAsTable('simpleDF_no')"
      ],
      "execution_count": null,
      "outputs": []
    },
    {
      "cell_type": "code",
      "metadata": {
        "id": "WjFujuMB6auu",
        "outputId": "99f0b36c-3460-4fca-e8ff-88b063315703",
        "colab": {
          "base_uri": "https://localhost:8080/",
          "height": 84
        }
      },
      "source": [
        "!hdfs dfs -ls"
      ],
      "execution_count": null,
      "outputs": [
        {
          "output_type": "stream",
          "text": [
            "Found 3 items\n",
            "drwxr-xr-x   - root supergroup          0 2020-10-25 03:59 countsDF.json\n",
            "drwxr-xr-x   - root supergroup          0 2020-10-25 04:04 simpleDF_no.json\n",
            "drwxr-xr-x   - root supergroup          0 2020-10-25 04:03 simpleDF_yes.json\n"
          ],
          "name": "stdout"
        }
      ]
    },
    {
      "cell_type": "markdown",
      "metadata": {
        "id": "ft_NS29z7kFo"
      },
      "source": [
        "#Respuesta 8"
      ]
    },
    {
      "cell_type": "code",
      "metadata": {
        "id": "ekzJ5Jts7nSJ",
        "outputId": "149b1e16-8742-453d-8a36-cd6f60f1c92d",
        "colab": {
          "base_uri": "https://localhost:8080/",
          "height": 54
        }
      },
      "source": [
        "sc = spark.sparkContext\n",
        "\n",
        "rdd = sc.textFile('file:///content/bank-additional-full.csv').filter(lambda line: not line.startswith('age,job')).map(lambda line: line.split(',')).filter(lambda line: line[20] == 'yes')\n",
        "\n",
        "count = rdd.map(lambda row: ((row[1] ,row[3]), 1)).reduceByKey(lambda a,b: a+b).sortBy(lambda count: count[1], ascending=False)\n",
        "print(count.take(20))"
      ],
      "execution_count": null,
      "outputs": [
        {
          "output_type": "stream",
          "text": [
            "[(('admin.', 'university.degree'), 823), (('admin.', 'high.school'), 382), (('technician', 'professional.course'), 343), (('management', 'university.degree'), 257), (('blue-collar', 'basic.9y'), 240), (('technician', 'university.degree'), 225), (('services', 'high.school'), 203), (('retired', 'basic.4y'), 185), (('blue-collar', 'basic.4y'), 123), (('student', 'high.school'), 114), (('blue-collar', 'basic.6y'), 107), (('self-employed', 'university.degree'), 96), (('blue-collar', 'high.school'), 94), (('technician', 'high.school'), 85), (('entrepreneur', 'university.degree'), 66), (('retired', 'university.degree'), 66), (('retired', 'high.school'), 62), (('student', 'unknown'), 59), (('retired', 'professional.course'), 57), (('housemaid', 'basic.4y'), 51)]\n"
          ],
          "name": "stdout"
        }
      ]
    }
  ]
}